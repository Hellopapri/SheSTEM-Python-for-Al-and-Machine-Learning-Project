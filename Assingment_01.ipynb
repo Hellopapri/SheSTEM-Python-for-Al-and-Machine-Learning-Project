{
  "nbformat": 4,
  "nbformat_minor": 0,
  "metadata": {
    "colab": {
      "provenance": [],
      "authorship_tag": "ABX9TyPC4dji4yzMnoj6G3wFxLiu",
      "include_colab_link": true
    },
    "kernelspec": {
      "name": "python3",
      "display_name": "Python 3"
    },
    "language_info": {
      "name": "python"
    }
  },
  "cells": [
    {
      "cell_type": "markdown",
      "metadata": {
        "id": "view-in-github",
        "colab_type": "text"
      },
      "source": [
        "<a href=\"https://colab.research.google.com/github/Hellopapri/SheSTEM-Python-for-Al-and-Machine-Learning-Project/blob/main/Assingment_01.ipynb\" target=\"_parent\"><img src=\"https://colab.research.google.com/assets/colab-badge.svg\" alt=\"Open In Colab\"/></a>"
      ]
    },
    {
      "cell_type": "code",
      "execution_count": null,
      "metadata": {
        "colab": {
          "base_uri": "https://localhost:8080/"
        },
        "id": "f1zAfVxZyCwy",
        "outputId": "9d776f4c-cd0f-493e-ac8b-21e38a48c678"
      },
      "outputs": [
        {
          "output_type": "stream",
          "name": "stdout",
          "text": [
            "Welcome to the Calculator! (Type 'x' to exit)\n"
          ]
        }
      ],
      "source": [
        "#Start of program\n",
        "print(\"Welcome to the Calculator! (Type 'x' to exit)\")"
      ]
    },
    {
      "cell_type": "code",
      "source": [
        "#Choose operation\n",
        "op = input(\"Enter operation (+, -, *, /): \")\n"
      ],
      "metadata": {
        "id": "uyMGDADQ0A_3",
        "colab": {
          "base_uri": "https://localhost:8080/"
        },
        "outputId": "c61decef-a67f-4eb0-9d37-e5070b188781"
      },
      "execution_count": null,
      "outputs": [
        {
          "name": "stdout",
          "output_type": "stream",
          "text": [
            "Enter operation (+, -, *, /): /\n"
          ]
        }
      ]
    },
    {
      "cell_type": "code",
      "source": [
        "#Take two numbers from user\n",
        "num1 = float(input(\"Enter first number: \"))\n",
        "num2 = float(input(\"Enter second number: \"))\n"
      ],
      "metadata": {
        "id": "uTmxG3bK0CC4",
        "colab": {
          "base_uri": "https://localhost:8080/"
        },
        "outputId": "28d5d7d6-ab48-4820-bd6f-e5e2283c3df3"
      },
      "execution_count": null,
      "outputs": [
        {
          "name": "stdout",
          "output_type": "stream",
          "text": [
            "Enter first number: 2\n",
            "Enter second number: 4\n"
          ]
        }
      ]
    },
    {
      "cell_type": "code",
      "source": [
        "#Show result after calculation\n",
        "if op == '+':\n",
        "    result = num1 + num2\n",
        "elif op == '-':\n",
        "    result = num1 - num2\n",
        "elif op == '*':\n",
        "    result = num1 * num2\n",
        "elif op == '/':\n",
        "    result = num1 / num2\n",
        "\n",
        "print(\"Result:\", result)\n"
      ],
      "metadata": {
        "id": "cj-vC7Ue0FjT",
        "colab": {
          "base_uri": "https://localhost:8080/"
        },
        "outputId": "1a053f76-32a0-4a45-eace-d37e8a7374fb"
      },
      "execution_count": null,
      "outputs": [
        {
          "output_type": "stream",
          "name": "stdout",
          "text": [
            "Result: 0.5\n"
          ]
        }
      ]
    },
    {
      "cell_type": "code",
      "source": [
        "#Exit if user types 'x'\n",
        "op = input(\"Enter operation (+, -, *, /) or 'x' to exit: \")\n",
        "if op.lower() == 'x':\n",
        "    print(\"Exited by user.\")\n",
        "    exit()\n"
      ],
      "metadata": {
        "id": "FT8wykvl0J3m",
        "colab": {
          "base_uri": "https://localhost:8080/"
        },
        "outputId": "1bb15173-d547-4063-d05a-924855d43e59"
      },
      "execution_count": null,
      "outputs": [
        {
          "output_type": "stream",
          "name": "stdout",
          "text": [
            "Enter operation (+, -, *, /) or 'x' to exit: X\n",
            "Exited by user.\n"
          ]
        }
      ]
    },
    {
      "cell_type": "code",
      "source": [
        "op = '/'\n",
        "num1 = float(input(\"Enter first number: \"))\n",
        "num2 = float(input(\"Enter second number: \"))\n",
        "\n",
        "\n",
        "if op == '/':\n",
        "    if num2 == 0:\n",
        "        print(\"Cannot divide by zero\")\n",
        "    else:\n",
        "        print(\"Result:\", num1 / num2)\n",
        "\n",
        "\n"
      ],
      "metadata": {
        "id": "TXmvnTzB0NZk",
        "colab": {
          "base_uri": "https://localhost:8080/"
        },
        "outputId": "bb8b0b55-0028-4739-d9e9-c6d995e4f3d7"
      },
      "execution_count": null,
      "outputs": [
        {
          "output_type": "stream",
          "name": "stdout",
          "text": [
            "Enter first number: 2\n",
            "Enter second number: 4\n",
            "Result: 0.5\n"
          ]
        }
      ]
    },
    {
      "cell_type": "markdown",
      "source": [
        "#Full program combining all conditions"
      ],
      "metadata": {
        "id": "XIXd8b2g1fIT"
      }
    },
    {
      "cell_type": "code",
      "source": [
        "\n",
        "print(\"Calculator (type 'x' to exit)\")\n",
        "\n",
        "for i in range(10):\n",
        "    op = input(\"\\nEnter operation (+, -, *, /) or 'x': \")\n",
        "    if op.lower() == 'x':\n",
        "        print(\"Exited by user.\")\n",
        "        break\n",
        "    if op not in ['+', '-', '*', '/']:\n",
        "        print(\"Invalid operation.\")\n",
        "        continue\n",
        "\n",
        "    try:\n",
        "        num1 = float(input(\"First number: \"))\n",
        "        num2 = float(input(\"Second number: \"))\n",
        "    except ValueError:\n",
        "        print(\"Invalid number.\")\n",
        "        continue\n",
        "\n",
        "    if op == '+':\n",
        "        print(\"Result:\", num1 + num2)\n",
        "    elif op == '-':\n",
        "        print(\"Result:\", num1 - num2)\n",
        "    elif op == '*':\n",
        "        print(\"Result:\", num1 * num2)\n",
        "    elif op == '/':\n",
        "        if num2 == 0:\n",
        "            print(\"Cannot divide by zero\")\n",
        "        else:\n",
        "            print(\"Result:\", num1 / num2)\n"
      ],
      "metadata": {
        "id": "5oC6p76O0OWH",
        "colab": {
          "base_uri": "https://localhost:8080/"
        },
        "outputId": "86ca73ea-3c04-4a19-efe1-fb435a1e7c61"
      },
      "execution_count": null,
      "outputs": [
        {
          "output_type": "stream",
          "name": "stdout",
          "text": [
            "Calculator (type 'x' to exit)\n",
            "\n",
            "Enter operation (+, -, *, /) or 'x': X\n",
            "Exited by user.\n"
          ]
        }
      ]
    }
  ]
}